{
 "cells": [
  {
   "cell_type": "code",
   "execution_count": 1,
   "id": "052ecc98-22c8-4253-8975-fecbfafa28bc",
   "metadata": {},
   "outputs": [],
   "source": [
    "def fib(n):\n",
    "    if n==0:\n",
    "        return 0\n",
    "    elif n==1 or n==2:\n",
    "        return 1\n",
    "    return fib(n-1)+fib(n-2)\n"
   ]
  },
  {
   "cell_type": "code",
   "execution_count": 2,
   "id": "32f24360-ed86-4b8a-8575-6339c2fa7326",
   "metadata": {},
   "outputs": [
    {
     "data": {
      "text/plain": [
       "3"
      ]
     },
     "execution_count": 2,
     "metadata": {},
     "output_type": "execute_result"
    }
   ],
   "source": [
    "fib(4)"
   ]
  },
  {
   "cell_type": "code",
   "execution_count": 3,
   "id": "766355df-1cb9-4936-9109-e33f4dea7586",
   "metadata": {},
   "outputs": [
    {
     "data": {
      "text/plain": [
       "610"
      ]
     },
     "execution_count": 3,
     "metadata": {},
     "output_type": "execute_result"
    }
   ],
   "source": [
    "fib(15)"
   ]
  },
  {
   "cell_type": "code",
   "execution_count": 4,
   "id": "ba16242b-a960-4853-a5a8-7bb7857558e6",
   "metadata": {},
   "outputs": [
    {
     "data": {
      "text/plain": [
       "13"
      ]
     },
     "execution_count": 4,
     "metadata": {},
     "output_type": "execute_result"
    }
   ],
   "source": [
    "fib(7)"
   ]
  },
  {
   "cell_type": "markdown",
   "id": "ae762b36-f891-414c-8d94-02c9029af0e4",
   "metadata": {},
   "source": [
    "# Memoization"
   ]
  },
  {
   "cell_type": "code",
   "execution_count": 22,
   "id": "43aba885-8b9b-4bfd-b5d0-149efdffc0db",
   "metadata": {},
   "outputs": [],
   "source": [
    "def fib2(n, mem={}):\n",
    "    if n in mem.keys():\n",
    "        return mem[n]\n",
    "    if n==0:\n",
    "        mem[0] = 0\n",
    "        return mem[0]\n",
    "    elif n==1 or n==2:\n",
    "        mem[n] = 1\n",
    "        return mem[n]\n",
    "    mem[n] = fib2(n-1, mem) + fib2(n-2, mem)\n",
    "    return mem[n]"
   ]
  },
  {
   "cell_type": "code",
   "execution_count": 23,
   "id": "344b8eb3-233b-4a53-bd39-473c4c76d2fb",
   "metadata": {},
   "outputs": [
    {
     "data": {
      "text/plain": [
       "12586269025"
      ]
     },
     "execution_count": 23,
     "metadata": {},
     "output_type": "execute_result"
    }
   ],
   "source": [
    "fib2(50)"
   ]
  },
  {
   "cell_type": "code",
   "execution_count": 24,
   "id": "41680294-a420-4c63-883b-1d050c8a818b",
   "metadata": {},
   "outputs": [
    {
     "data": {
      "text/plain": [
       "354224848179261915075"
      ]
     },
     "execution_count": 24,
     "metadata": {},
     "output_type": "execute_result"
    }
   ],
   "source": [
    "fib2(100)"
   ]
  },
  {
   "cell_type": "markdown",
   "id": "d3a81cff-5825-403f-8362-35fb42120d50",
   "metadata": {},
   "source": [
    "# LRU CACHE"
   ]
  },
  {
   "cell_type": "code",
   "execution_count": 28,
   "id": "8a02354b-fd5f-44f1-adf2-a72552e81f25",
   "metadata": {},
   "outputs": [],
   "source": [
    "from functools import lru_cache\n",
    "@lru_cache(None)\n",
    "def fib3(n, mem={}):\n",
    "    if n==0:\n",
    "        return 0\n",
    "    elif n==1 or n==2:\n",
    "        return 1\n",
    "    return fib3(n-1)+fib3(n-2)\n"
   ]
  },
  {
   "cell_type": "code",
   "execution_count": 29,
   "id": "96717ab5-2e98-48ee-be7f-7128a7995aa8",
   "metadata": {},
   "outputs": [
    {
     "data": {
      "text/plain": [
       "354224848179261915075"
      ]
     },
     "execution_count": 29,
     "metadata": {},
     "output_type": "execute_result"
    }
   ],
   "source": [
    "fib3(100)"
   ]
  },
  {
   "cell_type": "code",
   "execution_count": 30,
   "id": "bee7cce7-049a-4713-85a0-c1bac740adbf",
   "metadata": {},
   "outputs": [
    {
     "data": {
      "text/plain": [
       "12586269025"
      ]
     },
     "execution_count": 30,
     "metadata": {},
     "output_type": "execute_result"
    }
   ],
   "source": [
    "fib3(50)"
   ]
  },
  {
   "cell_type": "code",
   "execution_count": null,
   "id": "3bb2af4c-2ac6-4426-bef1-c046fb53c98c",
   "metadata": {},
   "outputs": [],
   "source": []
  }
 ],
 "metadata": {
  "kernelspec": {
   "display_name": "Python 3 (ipykernel)",
   "language": "python",
   "name": "python3"
  },
  "language_info": {
   "codemirror_mode": {
    "name": "ipython",
    "version": 3
   },
   "file_extension": ".py",
   "mimetype": "text/x-python",
   "name": "python",
   "nbconvert_exporter": "python",
   "pygments_lexer": "ipython3",
   "version": "3.12.5"
  }
 },
 "nbformat": 4,
 "nbformat_minor": 5
}
