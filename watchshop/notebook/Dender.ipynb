{
 "cells": [
  {
   "cell_type": "code",
   "execution_count": 6,
   "id": "a7af706a-f9e1-4029-8029-9c8f8aba215c",
   "metadata": {},
   "outputs": [],
   "source": [
    "class A:\n",
    "    def __init__(self, name):\n",
    "        self.name = name\n",
    "    def __str__(self):\n",
    "        return self.name"
   ]
  },
  {
   "cell_type": "code",
   "execution_count": 2,
   "id": "b620afa5-1625-43a3-9e36-03ea4958819c",
   "metadata": {},
   "outputs": [],
   "source": [
    "obj1=A(\"Arun\")"
   ]
  },
  {
   "cell_type": "code",
   "execution_count": 7,
   "id": "f560bf6f-f0aa-40ef-a81c-2178262514f0",
   "metadata": {},
   "outputs": [
    {
     "name": "stdout",
     "output_type": "stream",
     "text": [
      "Arun\n"
     ]
    }
   ],
   "source": [
    "print(obj1)"
   ]
  },
  {
   "cell_type": "code",
   "execution_count": 8,
   "id": "be933c05-20fe-41ce-a17f-72e72f617cc3",
   "metadata": {},
   "outputs": [],
   "source": [
    "class A:\n",
    "    def __init__(self, name):\n",
    "        self.name = name\n",
    "    # def __str__(self):\n",
    "    #     return self.name"
   ]
  },
  {
   "cell_type": "code",
   "execution_count": 9,
   "id": "b387a590-6f6d-4688-896b-8a6694bf6f5f",
   "metadata": {},
   "outputs": [],
   "source": [
    "obj1=A(\"Arun\")"
   ]
  },
  {
   "cell_type": "code",
   "execution_count": 10,
   "id": "9f1bcd11-dead-455f-ac53-4685b89f34fb",
   "metadata": {},
   "outputs": [
    {
     "name": "stdout",
     "output_type": "stream",
     "text": [
      "<__main__.A object at 0x000001FB9C2EA5A0>\n"
     ]
    }
   ],
   "source": [
    "print(obj1)"
   ]
  },
  {
   "cell_type": "code",
   "execution_count": null,
   "id": "64a23d8a-ead6-43b4-8b5f-7ed57b0dd1a7",
   "metadata": {},
   "outputs": [],
   "source": []
  }
 ],
 "metadata": {
  "kernelspec": {
   "display_name": "Python 3 (ipykernel)",
   "language": "python",
   "name": "python3"
  },
  "language_info": {
   "codemirror_mode": {
    "name": "ipython",
    "version": 3
   },
   "file_extension": ".py",
   "mimetype": "text/x-python",
   "name": "python",
   "nbconvert_exporter": "python",
   "pygments_lexer": "ipython3",
   "version": "3.12.5"
  }
 },
 "nbformat": 4,
 "nbformat_minor": 5
}
